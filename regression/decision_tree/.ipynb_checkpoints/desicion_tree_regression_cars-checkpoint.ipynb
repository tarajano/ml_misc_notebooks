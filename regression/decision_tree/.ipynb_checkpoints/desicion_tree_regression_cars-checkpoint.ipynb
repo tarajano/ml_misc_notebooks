{
 "cells": [
  {
   "cell_type": "markdown",
   "metadata": {},
   "source": [
    "# Desicion Tree Regression"
   ]
  },
  {
   "cell_type": "code",
   "execution_count": 5,
   "metadata": {},
   "outputs": [],
   "source": [
    "import sys\n",
    "\n",
    "import numpy as np\n",
    "import pandas as pd\n",
    "\n",
    "import matplotlib.pyplot as plt\n",
    "\n",
    "from sklearn import preprocessing\n",
    "from sklearn.tree import DecisionTreeRegressor  \n",
    "from sklearn.model_selection import train_test_split\n",
    "from sklearn.metrics import mean_squared_error, r2_score\n",
    "\n",
    "sys.path.insert(0, '../src')\n",
    "import regression_functions_utils as rfu"
   ]
  },
  {
   "cell_type": "code",
   "execution_count": 6,
   "metadata": {},
   "outputs": [],
   "source": [
    "# def get_rand_rgb_color(col_numb):\n",
    "#     return [np.random.rand(col_numb)]"
   ]
  },
  {
   "cell_type": "code",
   "execution_count": 7,
   "metadata": {},
   "outputs": [
    {
     "name": "stdout",
     "output_type": "stream",
     "text": [
      "(205, 26)\n"
     ]
    }
   ],
   "source": [
    "# Cars\n",
    "# http://mlr.cs.umass.edu/ml/machine-learning-databases/autos/\n",
    "f = \"/Users/tarajano/stud/data_analysis_stats_ml_mix/data/autos/imports-85_ready.csv\"\n",
    "dtf = pd.read_csv(f)\n",
    "print(dtf.shape)"
   ]
  },
  {
   "cell_type": "markdown",
   "metadata": {},
   "source": [
    "####  Drop NA records"
   ]
  },
  {
   "cell_type": "code",
   "execution_count": 8,
   "metadata": {},
   "outputs": [
    {
     "name": "stdout",
     "output_type": "stream",
     "text": [
      "(159, 26)\n"
     ]
    }
   ],
   "source": [
    "dtf = dtf.replace({'?': np.nan}).dropna()\n",
    "print(dtf.shape)"
   ]
  },
  {
   "cell_type": "markdown",
   "metadata": {},
   "source": [
    "####  Define numeric and Categorical columns"
   ]
  },
  {
   "cell_type": "code",
   "execution_count": 9,
   "metadata": {},
   "outputs": [],
   "source": [
    "num_cols = [ \n",
    "    'symboling', 'normalized_losses', 'num_of_doors', 'wheel_base', 'length', 'width', 'height', 'curb_weight',\n",
    "    'num_of_cylinders', 'engine_size', 'bore', 'stroke', 'compression_ratio', 'horsepower', 'peak_rpm',\n",
    "    'city_mpg','highway_mpg', 'price'\n",
    "]\n",
    "cat_cols = [\n",
    "    'make', 'fuel_type', 'aspiration', 'body_style',\n",
    "    'drive_wheels', 'engine_location', 'engine_type','fuel_system'\n",
    "]"
   ]
  },
  {
   "cell_type": "markdown",
   "metadata": {},
   "source": [
    "####  Convert Categorical to Binary"
   ]
  },
  {
   "cell_type": "code",
   "execution_count": 10,
   "metadata": {},
   "outputs": [],
   "source": [
    "ctg_dtf = rfu.get_dummies(dtf=dtf[cat_cols], categ_cols=cat_cols, avoid_dummy_trap=True)"
   ]
  },
  {
   "cell_type": "markdown",
   "metadata": {},
   "source": [
    "####  Convert Word to Number"
   ]
  },
  {
   "cell_type": "code",
   "execution_count": 11,
   "metadata": {},
   "outputs": [],
   "source": [
    "from word2number import w2n\n",
    "\n",
    "to_num = ['num_of_doors', 'num_of_cylinders']\n",
    "\n",
    "for c in to_num:\n",
    "    dtf[c] = [w2n.word_to_num(x) for x in dtf[c].values]"
   ]
  },
  {
   "cell_type": "markdown",
   "metadata": {},
   "source": [
    "#### Numeric columns only dtf"
   ]
  },
  {
   "cell_type": "code",
   "execution_count": 13,
   "metadata": {},
   "outputs": [],
   "source": [
    "num_dtf = dtf[num_cols]"
   ]
  },
  {
   "cell_type": "code",
   "execution_count": 14,
   "metadata": {},
   "outputs": [
    {
     "name": "stdout",
     "output_type": "stream",
     "text": [
      "num_dtf.shape (159, 18)\n",
      "ctg_dtf.shape (159, 34)\n"
     ]
    }
   ],
   "source": [
    "print('num_dtf.shape', num_dtf.shape)\n",
    "print('ctg_dtf.shape', ctg_dtf.shape)"
   ]
  },
  {
   "cell_type": "markdown",
   "metadata": {},
   "source": [
    "#### Cast types"
   ]
  },
  {
   "cell_type": "code",
   "execution_count": 15,
   "metadata": {},
   "outputs": [],
   "source": [
    "num_dtf = num_dtf.astype(\n",
    "    {'normalized_losses':'float32', 'bore':'float32', 'stroke':'float32',\n",
    "     'horsepower': 'int32', 'peak_rpm': 'int32','price': 'float32'}\n",
    ")"
   ]
  },
  {
   "cell_type": "code",
   "execution_count": 21,
   "metadata": {},
   "outputs": [],
   "source": [
    "num_dtf = pd.concat([num_dtf, ctg_dtf], axis=1, sort=False)"
   ]
  },
  {
   "cell_type": "code",
   "execution_count": 22,
   "metadata": {},
   "outputs": [
    {
     "name": "stdout",
     "output_type": "stream",
     "text": [
      "Index(['symboling', 'normalized_losses', 'num_of_doors', 'wheel_base',\n",
      "       'length', 'width', 'height', 'curb_weight', 'num_of_cylinders',\n",
      "       'engine_size',\n",
      "       ...\n",
      "       'drive_wheels_fwd', 'engine_type_dohc', 'engine_type_l',\n",
      "       'engine_type_ohc', 'engine_type_ohcf', 'fuel_system_1bbl',\n",
      "       'fuel_system_2bbl', 'fuel_system_idi', 'fuel_system_mfi',\n",
      "       'fuel_system_mpfi'],\n",
      "      dtype='object', length=154)\n"
     ]
    }
   ],
   "source": [
    "print(num_dtf.columns)"
   ]
  },
  {
   "cell_type": "markdown",
   "metadata": {},
   "source": [
    "#### Scale data"
   ]
  },
  {
   "cell_type": "code",
   "execution_count": 23,
   "metadata": {},
   "outputs": [
    {
     "name": "stderr",
     "output_type": "stream",
     "text": [
      "/usr/local/lib/python3.7/site-packages/ipykernel_launcher.py:4: DataConversionWarning: Data with input dtype uint8, int32, int64, float32, float64 were all converted to float64 by the scale function.\n",
      "  after removing the cwd from sys.path.\n",
      "/usr/local/lib/python3.7/site-packages/ipykernel_launcher.py:5: DataConversionWarning: Data with input dtype float32 were all converted to float64 by the scale function.\n",
      "  \"\"\"\n"
     ]
    }
   ],
   "source": [
    "X = num_dtf.drop(['price'], axis=1).copy()\n",
    "y = num_dtf[['price']].copy()\n",
    "\n",
    "X_scld = preprocessing.scale(X)\n",
    "y_scld = preprocessing.scale(y)"
   ]
  },
  {
   "cell_type": "code",
   "execution_count": 24,
   "metadata": {},
   "outputs": [],
   "source": [
    "# plt.hist(y_scld)"
   ]
  },
  {
   "cell_type": "markdown",
   "metadata": {},
   "source": [
    "#### Features' collinearity \n",
    "_Collinearity seems very high among numeric features_"
   ]
  },
  {
   "cell_type": "code",
   "execution_count": null,
   "metadata": {},
   "outputs": [],
   "source": [
    "# vif = rfu.compute_vif(X)\n",
    "# print(vif)"
   ]
  },
  {
   "cell_type": "markdown",
   "metadata": {},
   "source": [
    "#### Features' normality"
   ]
  },
  {
   "cell_type": "code",
   "execution_count": 213,
   "metadata": {},
   "outputs": [],
   "source": [
    "# def normality_test(dtf, alpha=.05):\n",
    "#     r = pd.DataFrame(columns=['feature', 'sw_stat','p_value','gaussian'])\n",
    "    \n",
    "#     for f in dtf.columns:\n",
    "#         sw_stat, p_value = rfu.shapiro_wilks_test(dtf[f])\n",
    "#         h0 = 0\n",
    "#         if p_value > alpha:\n",
    "#             h0 = 1\n",
    "#         t = pd.DataFrame({'feature':[f], 'sw_stat':[sw_stat],'p_value':[p_value],'gaussian':[h0]})\n",
    "#         r = pd.concat([r,t])\n",
    "# #     r.reset_index(inplace=True)\n",
    "#     return r\n",
    "\n",
    "# print(normality_test(X))"
   ]
  },
  {
   "cell_type": "code",
   "execution_count": null,
   "metadata": {},
   "outputs": [],
   "source": [
    "# Plot features' hists\n",
    "# for i, f in enumerate(X.columns):\n",
    "#     ax = X[[f]].plot.hist()"
   ]
  },
  {
   "cell_type": "markdown",
   "metadata": {},
   "source": [
    "#### Split into Train & Test sets"
   ]
  },
  {
   "cell_type": "code",
   "execution_count": 26,
   "metadata": {},
   "outputs": [],
   "source": [
    "X_train, X_test, y_train, y_test = train_test_split(X_scld, y_scld, test_size=0.2)"
   ]
  },
  {
   "cell_type": "markdown",
   "metadata": {},
   "source": [
    "#### Create regressor"
   ]
  },
  {
   "cell_type": "code",
   "execution_count": 27,
   "metadata": {},
   "outputs": [
    {
     "data": {
      "text/plain": [
       "DecisionTreeRegressor(criterion='mse', max_depth=None, max_features=None,\n",
       "           max_leaf_nodes=None, min_impurity_decrease=0.0,\n",
       "           min_impurity_split=None, min_samples_leaf=1,\n",
       "           min_samples_split=2, min_weight_fraction_leaf=0.0,\n",
       "           presort=False, random_state=0, splitter='best')"
      ]
     },
     "execution_count": 27,
     "metadata": {},
     "output_type": "execute_result"
    }
   ],
   "source": [
    "# create a regressor object \n",
    "regressor = DecisionTreeRegressor(random_state = 0)  \n",
    "  \n",
    "# fit the regressor with X and Y data \n",
    "regressor.fit(X_train, y_train)"
   ]
  },
  {
   "cell_type": "code",
   "execution_count": 28,
   "metadata": {},
   "outputs": [],
   "source": [
    "y_hat = regressor.predict(X_test)"
   ]
  },
  {
   "cell_type": "code",
   "execution_count": 29,
   "metadata": {},
   "outputs": [
    {
     "name": "stdout",
     "output_type": "stream",
     "text": [
      "Coeff. Determination (R2): 0.9999144575386378\n",
      "Mean Squared Error: 0.09710144110280745\n",
      "Explained Variance Score: 0.7503496149750861\n"
     ]
    }
   ],
   "source": [
    "# Have a look at R sq to give an idea of the fit ,\n",
    "# Explained variance score: 1 is perfect prediction\n",
    "print(\"Coeff. Determination (R2): {}\".format(regressor.score(X_train, y_train)))\n",
    "\n",
    "# The mean squared error\n",
    "print(\"Mean Squared Error: {}\".format(mean_squared_error(y_test, y_hat)))\n",
    "\n",
    "# Explained variance score: 1 is perfect prediction\n",
    "print(\"Explained Variance Score: {}\".format(r2_score(y_test, y_hat)))"
   ]
  },
  {
   "cell_type": "markdown",
   "metadata": {},
   "source": [
    "#### Plot y_hat vs y_test to inspect regression results"
   ]
  },
  {
   "cell_type": "code",
   "execution_count": 30,
   "metadata": {},
   "outputs": [
    {
     "data": {
      "image/png": "[encoded data removed]",
      "text/plain": [
       "<Figure size 432x288 with 1 Axes>"
      ]
     },
     "metadata": {
      "needs_background": "light"
     },
     "output_type": "display_data"
    }
   ],
   "source": [
    "plt.scatter(y_test, y_hat)\n",
    "plt.plot([y_test.min(), y_test.max()], [y_test.min(), y_test.max()], color='black', alpha=.6)\n",
    "plt.legend(['Perfect prediction', 'Predicted values'])\n",
    "plt.xlabel('y_test')\n",
    "plt.ylabel('y_hat')\n",
    "plt.title('Desicion Tree Regression')\n",
    "plt.show()"
   ]
  },
  {
   "cell_type": "code",
   "execution_count": 61,
   "metadata": {},
   "outputs": [
    {
     "data": {
      "image/png": "[encoded data removed]",
      "text/plain": [
       "<Figure size 432x288 with 1 Axes>"
      ]
     },
     "metadata": {
      "needs_background": "light"
     },
     "output_type": "display_data"
    }
   ],
   "source": [
    "y_hat = y_hat.reshape(-1,1)\n",
    "\n",
    "plt.scatter(y_test, (y_hat - y_test), color='magenta')\n",
    "plt.hlines(0, min(y_test), max(y_test), color='black', alpha=.8)\n",
    "plt.xlabel('y_test')\n",
    "plt.ylabel('errors')\n",
    "plt.title('Residuals plot')\n",
    "plt.show()"
   ]
  },
  {
   "cell_type": "markdown",
   "metadata": {},
   "source": [
    "#### Preliminary results"
   ]
  },
  {
   "cell_type": "markdown",
   "metadata": {},
   "source": [
    "* There's larger erros in prodictions as the car prices increases."
   ]
  },
  {
   "cell_type": "code",
   "execution_count": null,
   "metadata": {},
   "outputs": [],
   "source": []
  }
 ],
 "metadata": {
  "kernelspec": {
   "display_name": "Python 3",
   "language": "python",
   "name": "python3"
  },
  "language_info": {
   "codemirror_mode": {
    "name": "ipython",
    "version": 3
   },
   "file_extension": ".py",
   "mimetype": "text/x-python",
   "name": "python",
   "nbconvert_exporter": "python",
   "pygments_lexer": "ipython3",
   "version": "3.7.1"
  }
 },
 "nbformat": 4,
 "nbformat_minor": 2
}
